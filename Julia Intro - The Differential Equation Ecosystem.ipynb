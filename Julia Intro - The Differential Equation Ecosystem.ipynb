{
 "cells": [
  {
   "attachments": {
    "image.png": {
     "image/png": "[encoded data removed]"
    }
   },
   "cell_type": "markdown",
   "id": "experimental-dublin",
   "metadata": {
    "slideshow": {
     "slide_type": "slide"
    }
   },
   "source": [
    "![image.png](attachment:image.png)\n",
    "\n",
    "Documentation at [diffeq.sciml.ai](https://diffeq.sciml.ai/stable/) (much was copied from the documentaiton)"
   ]
  },
  {
   "cell_type": "code",
   "execution_count": null,
   "id": "rolled-grammar",
   "metadata": {},
   "outputs": [],
   "source": [
    "using DifferentialEquations\n",
    "using Plots"
   ]
  },
  {
   "cell_type": "markdown",
   "id": "photographic-dividend",
   "metadata": {
    "slideshow": {
     "slide_type": "slide"
    }
   },
   "source": [
    "# Problem Definition\n",
    "\n",
    "We will be solving $\\frac{du}{dt} = f(u,p,t)$, a general first-order differential equations.\n",
    "\n",
    "$u$ can be any object for which addition is defined (scalar, vector, tensor, or some other arbitrary data structure to be discussed later).\n",
    "\n",
    "See also: [ODE examples](https://diffeq.sciml.ai/stable/tutorials/ode_example/)"
   ]
  },
  {
   "cell_type": "markdown",
   "id": "editorial-restaurant",
   "metadata": {
    "slideshow": {
     "slide_type": "subslide"
    }
   },
   "source": [
    "We define a problem type by giving it the equation, the initial condition, and the timespan to solve over."
   ]
  },
  {
   "cell_type": "code",
   "execution_count": null,
   "id": "pharmaceutical-figure",
   "metadata": {
    "slideshow": {
     "slide_type": "fragment"
    }
   },
   "outputs": [],
   "source": [
    "function lorenz(u,p,t)\n",
    "    du = zero(u)\n",
    "    du[1] = 10.0*(u[2]-u[1])\n",
    "    du[2] = u[1]*(28.0-u[3]) - u[2]\n",
    "    du[3] = u[1]*u[2] - (8/3)*u[3]\n",
    "    return du\n",
    "end\n",
    "\n",
    "u0 = [1.0, 0.0, 0.0] # initial conditions\n",
    "tspan = (0.0, 10.0)  # time span over which to solve\n",
    "\n",
    "# object encapsulating all information about the problem\n",
    "problem = ODEProblem(lorenz, u0, tspan)"
   ]
  },
  {
   "cell_type": "markdown",
   "id": "south-module",
   "metadata": {
    "slideshow": {
     "slide_type": "subslide"
    }
   },
   "source": [
    "# Solution\n",
    "\n",
    "Getting the object representing the integrated solution of the differential equation takes nothing more than calling the `solve` function."
   ]
  },
  {
   "cell_type": "code",
   "execution_count": null,
   "id": "brazilian-adelaide",
   "metadata": {
    "scrolled": true,
    "slideshow": {
     "slide_type": "fragment"
    }
   },
   "outputs": [],
   "source": [
    "solution = solve(problem)"
   ]
  },
  {
   "cell_type": "markdown",
   "id": "transparent-replacement",
   "metadata": {
    "slideshow": {
     "slide_type": "subslide"
    }
   },
   "source": [
    "## Naive vs In-place problem definitions"
   ]
  },
  {
   "cell_type": "code",
   "execution_count": null,
   "id": "sustained-secondary",
   "metadata": {
    "slideshow": {
     "slide_type": "fragment"
    }
   },
   "outputs": [],
   "source": [
    "# Naively create new array each time\n",
    "function lorenz(u,p,t)\n",
    "    du = zero(u)\n",
    "    du[1] = 10.0*(u[2]-u[1])\n",
    "    du[2] = u[1]*(28.0-u[3]) - u[2]\n",
    "    du[3] = u[1]*u[2] - (8/3)*u[3]\n",
    "    return du\n",
    "end\n",
    "\n",
    "problem = ODEProblem(lorenz, u0, tspan)\n",
    "@time solve(problem);"
   ]
  },
  {
   "cell_type": "code",
   "execution_count": null,
   "id": "pending-template",
   "metadata": {
    "slideshow": {
     "slide_type": "fragment"
    }
   },
   "outputs": [],
   "source": [
    "@time solve(problem);"
   ]
  },
  {
   "cell_type": "code",
   "execution_count": null,
   "id": "bound-royal",
   "metadata": {
    "slideshow": {
     "slide_type": "subslide"
    }
   },
   "outputs": [],
   "source": [
    "# Reuse the old array, drastically saving time\n",
    "function lorenz!(du,u,p,t)\n",
    "    du[1] = 10.0*(u[2]-u[1])\n",
    "    du[2] = u[1]*(28.0-u[3]) - u[2]\n",
    "    du[3] = u[1]*u[2] - (8/3)*u[3]\n",
    "    return du\n",
    "end\n",
    "\n",
    "problem = ODEProblem(lorenz!, u0, tspan)\n",
    "@time solve(problem);"
   ]
  },
  {
   "cell_type": "code",
   "execution_count": null,
   "id": "operating-bridges",
   "metadata": {
    "slideshow": {
     "slide_type": "fragment"
    }
   },
   "outputs": [],
   "source": [
    "@time solve(problem);"
   ]
  },
  {
   "cell_type": "markdown",
   "id": "alien-thomson",
   "metadata": {
    "slideshow": {
     "slide_type": "subslide"
    }
   },
   "source": [
    "# The Solution Object"
   ]
  },
  {
   "cell_type": "markdown",
   "id": "sonic-hygiene",
   "metadata": {
    "slideshow": {
     "slide_type": "subslide"
    }
   },
   "source": [
    "The first thing to check is whether the solver reported successful convergence."
   ]
  },
  {
   "cell_type": "code",
   "execution_count": null,
   "id": "entire-walker",
   "metadata": {},
   "outputs": [],
   "source": [
    "solution.retcode"
   ]
  },
  {
   "cell_type": "markdown",
   "id": "statutory-greene",
   "metadata": {
    "slideshow": {
     "slide_type": "subslide"
    }
   },
   "source": [
    "We can see what were the points along the trajectory that the solver saved"
   ]
  },
  {
   "cell_type": "code",
   "execution_count": null,
   "id": "bronze-annual",
   "metadata": {},
   "outputs": [],
   "source": [
    "solution.t"
   ]
  },
  {
   "cell_type": "code",
   "execution_count": null,
   "id": "explicit-colonial",
   "metadata": {
    "slideshow": {
     "slide_type": "subslide"
    }
   },
   "outputs": [],
   "source": [
    "solution.u"
   ]
  },
  {
   "cell_type": "markdown",
   "id": "intense-spread",
   "metadata": {
    "slideshow": {
     "slide_type": "subslide"
    }
   },
   "source": [
    "The solution object provides a particularly convenient direct indexing feature:"
   ]
  },
  {
   "cell_type": "code",
   "execution_count": null,
   "id": "center-portable",
   "metadata": {},
   "outputs": [],
   "source": [
    "solution[3,:] # The 3rd coordinate of the entire trajectory"
   ]
  },
  {
   "cell_type": "code",
   "execution_count": null,
   "id": "distinct-temperature",
   "metadata": {
    "slideshow": {
     "slide_type": "subslide"
    }
   },
   "outputs": [],
   "source": [
    "solution[:,5] # All 3 coordinates at the 5th saved time"
   ]
  },
  {
   "cell_type": "code",
   "execution_count": null,
   "id": "appreciated-brunswick",
   "metadata": {
    "slideshow": {
     "slide_type": "subslide"
    }
   },
   "outputs": [],
   "source": [
    "# Convert the solution object to an array\n",
    "Array(solution)"
   ]
  },
  {
   "cell_type": "markdown",
   "id": "cloudy-analysis",
   "metadata": {
    "slideshow": {
     "slide_type": "slide"
    }
   },
   "source": [
    "## Built-in interpolator\n",
    "\n",
    "As you saw above, the times at which the result was saved do not look like a particularly dense grid.\n",
    "The times are automatically choosen, such that they provide a sufficiently good interpolation.\n",
    "\n",
    "For most purposes, you would want to use the `solution` object as if it was a function,\n",
    "not as a sparsly populated table of solutions for various times."
   ]
  },
  {
   "cell_type": "code",
   "execution_count": null,
   "id": "demographic-malta",
   "metadata": {
    "slideshow": {
     "slide_type": "fragment"
    }
   },
   "outputs": [],
   "source": [
    "# Evaluate the solution of the ODE at t=0.2\n",
    "solution(0.2)"
   ]
  },
  {
   "cell_type": "markdown",
   "id": "primary-pioneer",
   "metadata": {
    "slideshow": {
     "slide_type": "subslide"
    }
   },
   "source": [
    "### Saving at regular times\n",
    "\n",
    "Maybe some other part of your simulation needs regular time samples."
   ]
  },
  {
   "cell_type": "code",
   "execution_count": null,
   "id": "floral-diana",
   "metadata": {
    "scrolled": true
   },
   "outputs": [],
   "source": [
    "# This will specifically save at every 0.1 units of time.\n",
    "# The interpolation quality would probably suffer.\n",
    "solve(problem,saveat=0.1)"
   ]
  },
  {
   "cell_type": "code",
   "execution_count": null,
   "id": "empty-determination",
   "metadata": {
    "slideshow": {
     "slide_type": "subslide"
    }
   },
   "outputs": [],
   "source": [
    "# This will not save anything but the final result.\n",
    "solve(problem,save_everystep=false)"
   ]
  },
  {
   "cell_type": "markdown",
   "id": "outstanding-order",
   "metadata": {
    "slideshow": {
     "slide_type": "slide"
    }
   },
   "source": [
    "# Built-in plotter\n",
    "\n",
    "See also: [plotting recipies documentation](https://diffeq.sciml.ai/stable/basics/plot/)"
   ]
  },
  {
   "cell_type": "markdown",
   "id": "military-madrid",
   "metadata": {
    "slideshow": {
     "slide_type": "subslide"
    }
   },
   "source": [
    "### Naively, we can just extract the saved values"
   ]
  },
  {
   "cell_type": "code",
   "execution_count": null,
   "id": "diverse-foster",
   "metadata": {},
   "outputs": [],
   "source": [
    "plot(solution.t, Array(solution)', # We had to transpose the solution matrix \n",
    "     xlabel=\"Time\")                # because of the format expected by plot."
   ]
  },
  {
   "cell_type": "markdown",
   "id": "historic-religious",
   "metadata": {
    "slideshow": {
     "slide_type": "subslide"
    }
   },
   "source": [
    "### However, there are predifined methods that permit plotting from the interpolator"
   ]
  },
  {
   "cell_type": "markdown",
   "id": "subject-wealth",
   "metadata": {
    "slideshow": {
     "slide_type": "fragment"
    }
   },
   "source": [
    "Plot solution vs time"
   ]
  },
  {
   "cell_type": "code",
   "execution_count": null,
   "id": "buried-valentine",
   "metadata": {
    "slideshow": {
     "slide_type": "-"
    }
   },
   "outputs": [],
   "source": [
    "# Plot just the first and third coordinate vs time;\n",
    "# Use an array of indices in the `vars` argument.\n",
    "plot(solution, vars=[1,3])"
   ]
  },
  {
   "cell_type": "markdown",
   "id": "modular-millennium",
   "metadata": {
    "slideshow": {
     "slide_type": "subslide"
    }
   },
   "source": [
    "Parametric plots"
   ]
  },
  {
   "cell_type": "code",
   "execution_count": null,
   "id": "paperback-mongolia",
   "metadata": {},
   "outputs": [],
   "source": [
    "# Perform a parametric plot where the time is implicit;\n",
    "# Use a tuple of the indices of the vars you would like used\n",
    "# as spatial coordinates.\n",
    "plot(solution, vars=(2,3))"
   ]
  },
  {
   "cell_type": "markdown",
   "id": "injured-rebound",
   "metadata": {
    "slideshow": {
     "slide_type": "slide"
    }
   },
   "source": [
    "# Available Solvers\n",
    "\n",
    "Hundreds (!?) of different solvers (see the [full list](https://diffeq.sciml.ai/stable/solvers/ode_solve/)) in a few rough categories.\n",
    "\n",
    "That page has information on:\n",
    "\n",
    "- Stiff vs non-stiff problems\n",
    "- Low numerical tolerance vs high tolerance problems\n",
    "- An excruciatingly detailed list of methods for ODE geeks"
   ]
  },
  {
   "cell_type": "code",
   "execution_count": null,
   "id": "indirect-blond",
   "metadata": {
    "scrolled": true
   },
   "outputs": [],
   "source": [
    "solver_algo = Tsit5()\n",
    "solve(problem, solver_algo, reltol=1e-8, abstol=1e-8)"
   ]
  },
  {
   "cell_type": "markdown",
   "id": "asian-thomson",
   "metadata": {
    "slideshow": {
     "slide_type": "skip"
    }
   },
   "source": [
    "# Second Order ODEs\n",
    "\n",
    "# Stochastic Differential Equations\n"
   ]
  },
  {
   "cell_type": "markdown",
   "id": "specialized-philip",
   "metadata": {
    "slideshow": {
     "slide_type": "slide"
    }
   },
   "source": [
    "# Partial Differential Equations\n",
    "\n",
    "See also: \n",
    "- [video lecture on numerical PDEs and Julia](https://www.youtube.com/watch?v=okGybBmihOE)\n",
    "- [rough transcript, including code](https://nextjournal.com/sosiris-de/pde-2018)\n",
    "- In particular, that lecture discusses the many ways to convert a PDE into an ODE\n",
    "- The [DiffEqOperators.jl](https://github.com/SciML/DiffEqOperators.jl) package which provides a simple interface for discretization\n",
    "- The [DiffEqOperators documentation](http://diffeqoperators.sciml.ai/stable/)"
   ]
  },
  {
   "cell_type": "markdown",
   "id": "identified-median",
   "metadata": {
    "slideshow": {
     "slide_type": "subslide"
    }
   },
   "source": [
    "## Discretization example with the heat equation\n",
    "\n",
    "The scalar PDE $$\\frac{\\partial u}{\\partial t} = \\Delta u$$\n",
    "can be turned into a system of ODEs, by using a mesh (or grid) for the spatial coordinate and discretizing the spatial derivatives.\n",
    "\n",
    "$u(t,x)$ becomes the vector $\\vec{u}(t)$. The dimensionality of that vector is equal to the number of samples on the mesh (or grid)."
   ]
  },
  {
   "cell_type": "code",
   "execution_count": null,
   "id": "motivated-tattoo",
   "metadata": {
    "slideshow": {
     "slide_type": "subslide"
    }
   },
   "outputs": [],
   "source": [
    "using DiffEqOperators, OrdinaryDiffEq\n",
    "\n",
    "# Make the discretized differential operator\n",
    "nknots = 100\n",
    "h = 1.0/(nknots+1)\n",
    "knots = range(h, step=h, length=nknots)\n",
    "ord_deriv = 2\n",
    "ord_approx = 2\n",
    "\n",
    "const Δ = CenteredDifference(ord_deriv, ord_approx, h, nknots);"
   ]
  },
  {
   "cell_type": "code",
   "execution_count": null,
   "id": "tight-torture",
   "metadata": {
    "slideshow": {
     "slide_type": "fragment"
    }
   },
   "outputs": [],
   "source": [
    "Array(Δ)"
   ]
  },
  {
   "cell_type": "code",
   "execution_count": null,
   "id": "passing-minister",
   "metadata": {
    "slideshow": {
     "slide_type": "subslide"
    }
   },
   "outputs": [],
   "source": [
    "# We want to solve\n",
    "# ∂ₜu = Δu\n",
    "\n",
    "# Prepare boundary conditions\n",
    "const bc = Dirichlet0BC(Float64)\n",
    "\n",
    "# Problem definitions\n",
    "step(u,p,t) = Δ*bc*u\n",
    "\n",
    "# Initial conditions\n",
    "u0 = sin.(2*π .* knots)\n",
    "\n",
    "t0 = 0.0\n",
    "t1 = 0.03\n",
    "prob = ODEProblem(step, u0, (t0, t1))\n",
    "sol = solve(prob);"
   ]
  },
  {
   "cell_type": "code",
   "execution_count": null,
   "id": "ecological-feeling",
   "metadata": {},
   "outputs": [],
   "source": [
    "plot(sol(t0), label=\"at t0\")\n",
    "plot!(sol(t1), label=\"at t1\")\n",
    "plot!(xlabel=\"x\")"
   ]
  },
  {
   "cell_type": "markdown",
   "id": "pregnant-freight",
   "metadata": {
    "slideshow": {
     "slide_type": "slide"
    }
   },
   "source": [
    "# Function Definition Tools and DSLs"
   ]
  },
  {
   "cell_type": "markdown",
   "id": "demanding-combat",
   "metadata": {
    "slideshow": {
     "slide_type": "subslide"
    }
   },
   "source": [
    "## A quick Domain Specific Language (DSL) for defining ODEs\n",
    "\n",
    "`ParameterizedFunctions`\n",
    "\n",
    "It is frequently more pleasant to write something that looks like your mathematical equation, not like code.\n",
    "\n",
    "See also: [`ParameterizedFunctions` documentation](https://diffeq.sciml.ai/stable/analysis/parameterized_functions/)"
   ]
  },
  {
   "cell_type": "code",
   "execution_count": null,
   "id": "disabled-feeling",
   "metadata": {
    "slideshow": {
     "slide_type": "subslide"
    }
   },
   "outputs": [],
   "source": [
    "using ParameterizedFunctions\n",
    "\n",
    "f = @ode_def begin\n",
    "  dy₁ = -k₁*y₁+k₃*y₂*y₃\n",
    "  dy₂ =  k₁*y₁-k₂*y₂^2-k₃*y₂*y₃\n",
    "  dy₃ =  k₂*y₂^2\n",
    "end k₁ k₂ k₃"
   ]
  },
  {
   "cell_type": "markdown",
   "id": "minus-smooth",
   "metadata": {
    "slideshow": {
     "slide_type": "fragment"
    }
   },
   "source": [
    "```\n",
    "function f(du,u,p,t)\n",
    "  du[1] = -p[1]*u[1] + p[3]*u[2]*u[3]\n",
    "  du[2] = p[1]*u[1] - p[2]*u[2]^2 - p[3]*u[2]*u[3]\n",
    "  du[3] = p[2]*u[2]^2\n",
    "end\n",
    "```"
   ]
  },
  {
   "cell_type": "code",
   "execution_count": null,
   "id": "considerable-forest",
   "metadata": {
    "slideshow": {
     "slide_type": "fragment"
    }
   },
   "outputs": [],
   "source": [
    "# There is quite a bit of freedom in this macro\n",
    "f = @ode_def begin\n",
    "  d🐁 =  α*🐁 - β*🐁*🐈\n",
    "  d🐈 = -γ*🐈 + δ*🐁*🐈\n",
    "end α β γ δ"
   ]
  },
  {
   "cell_type": "markdown",
   "id": "first-silly",
   "metadata": {
    "slideshow": {
     "slide_type": "subslide"
    }
   },
   "source": [
    "## Even more sophisticated symbolic DSL\n",
    "\n",
    "`ModelingToolkit`\n",
    "\n",
    "Does a lot of extra stuff, like computing gradients and jacobians, and other more esoteric optimizations.\n",
    "\n",
    "See also: \n",
    "- [Package repo](https://github.com/SciML/ModelingToolkit.jl)\n",
    "- [Package docs](https://mtk.sciml.ai/stable/)\n",
    "- [Arxiv preprint](https://arxiv.org/abs/2103.05244)"
   ]
  },
  {
   "cell_type": "code",
   "execution_count": null,
   "id": "promotional-advocate",
   "metadata": {
    "slideshow": {
     "slide_type": "subslide"
    }
   },
   "outputs": [],
   "source": [
    "using ModelingToolkit\n",
    "\n",
    "@parameters t σ ρ β       # Define parameters.\n",
    "@variables x(t) y(t) z(t) # Define dependent variables.\n",
    "D = Differential(t)       # Define differentiation operators.\n",
    "\n",
    "eqs = [D(D(x)) ~ σ*(y-x), # List your equations.\n",
    "       D(y) ~ x*(ρ-z)-y,\n",
    "       D(z) ~ x*y - β*z]\n",
    "\n",
    "sys = ODESystem(eqs)          # Transform the list into code,\n",
    "sys = ode_order_lowering(sys) # and re-express higher-order derivatives.\n",
    "\n",
    "u0 = [D(x) => 2.0,  # Set the initial conditions,\n",
    "      x => 1.0,\n",
    "      y => 0.0,\n",
    "      z => 0.0]\n",
    "\n",
    "p  = [σ => 28.0,    # and set the parameter values.\n",
    "      ρ => 10.0,\n",
    "      β => 8/3]\n",
    "\n",
    "# And now you have your problem, with automatic\n",
    "# optimized code, including gradients and Jacobians.\n",
    "tspan = (0.0,10.0)\n",
    "prob = ODEProblem(sys,u0,tspan,p,jac=true)"
   ]
  },
  {
   "cell_type": "code",
   "execution_count": null,
   "id": "uniform-canal",
   "metadata": {
    "slideshow": {
     "slide_type": "subslide"
    }
   },
   "outputs": [],
   "source": [
    "sol = solve(prob)"
   ]
  },
  {
   "cell_type": "code",
   "execution_count": null,
   "id": "indirect-window",
   "metadata": {
    "slideshow": {
     "slide_type": "subslide"
    }
   },
   "outputs": [],
   "source": [
    "plot(sol)"
   ]
  },
  {
   "cell_type": "markdown",
   "id": "formal-there",
   "metadata": {
    "slideshow": {
     "slide_type": "slide"
    }
   },
   "source": [
    "# Event Handling and Callbacks\n",
    "\n",
    "How do we observe the solution and apply an abrubt\n",
    "change dependent on the current state of the system.\n",
    "\n",
    "See [docs on callbacks](https://diffeq.sciml.ai/stable/features/callback_functions/)"
   ]
  },
  {
   "cell_type": "code",
   "execution_count": null,
   "id": "comparative-landscape",
   "metadata": {
    "slideshow": {
     "slide_type": "subslide"
    }
   },
   "outputs": [],
   "source": [
    "# An ODE for the acceleration of a ball.\n",
    "function ode_bouncingball(du,u,p,t)\n",
    "  du[1] = u[2] # Derivative of speed is acceleration.\n",
    "  du[2] = -p   # Acceleration in constant graviational field.\n",
    "end\n",
    "\n",
    "# The variable being tracked.\n",
    "function condition(u,t,integrator) # Event when event_f(u,t) == 0\n",
    "  u[1]\n",
    "end\n",
    "\n",
    "# The effect to be exerted when the condition is met.\n",
    "function affect!(integrator)\n",
    "  integrator.u[2] = -integrator.u[2] # \"Reflect\" the speed.\n",
    "end\n",
    "\n",
    "# The object that packages all this together.\n",
    "cb = ContinuousCallback(condition,affect!);"
   ]
  },
  {
   "cell_type": "code",
   "execution_count": null,
   "id": "owned-causing",
   "metadata": {
    "slideshow": {
     "slide_type": "subslide"
    }
   },
   "outputs": [],
   "source": [
    "u0 = [50.0,0.0]\n",
    "tspan = (0.0,15.0)\n",
    "p = 9.8\n",
    "\n",
    "prob = ODEProblem(ode_bouncingball,u0,tspan,p)\n",
    "\n",
    "sol = solve(prob,callback=cb)\n",
    "plot(sol)"
   ]
  },
  {
   "cell_type": "markdown",
   "id": "funny-guatemala",
   "metadata": {
    "slideshow": {
     "slide_type": "skip"
    }
   },
   "source": [
    "\n",
    "\n",
    "# Sensitivity Analysis (Automatic Differentiation)\n",
    "\n",
    "https://diffeq.sciml.ai/stable/analysis/sensitivity/\n",
    "https://diffeq.sciml.ai/stable/extras/sensitivity_math/#sensitivity_math"
   ]
  },
  {
   "cell_type": "code",
   "execution_count": null,
   "id": "incoming-strike",
   "metadata": {
    "slideshow": {
     "slide_type": "skip"
    }
   },
   "outputs": [],
   "source": [
    "using DiffEqSensitivity, OrdinaryDiffEq, Zygote"
   ]
  }
 ],
 "metadata": {
  "celltoolbar": "Slideshow",
  "kernelspec": {
   "display_name": "Julia 1.6.0-beta1",
   "language": "julia",
   "name": "julia-1.6"
  },
  "language_info": {
   "file_extension": ".jl",
   "mimetype": "application/julia",
   "name": "julia",
   "version": "1.6.0"
  }
 },
 "nbformat": 4,
 "nbformat_minor": 5
}
